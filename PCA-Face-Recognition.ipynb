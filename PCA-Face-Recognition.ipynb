{
 "cells": [
  {
   "cell_type": "code",
   "execution_count": 31,
   "id": "101d3eec",
   "metadata": {},
   "outputs": [],
   "source": [
    "from PIL import Image\n",
    "import cv2 as cv\n",
    "import numpy as np\n",
    "import matplotlib.pyplot as plt\n",
    "import math"
   ]
  },
  {
   "cell_type": "code",
   "execution_count": null,
   "id": "ed3dd70e",
   "metadata": {},
   "outputs": [],
   "source": []
  },
  {
   "cell_type": "code",
   "execution_count": 32,
   "id": "fba5bf4e",
   "metadata": {},
   "outputs": [
    {
     "name": "stdout",
     "output_type": "stream",
     "text": [
      "please choose the person:  7\n",
      "please choose the picture, n> 5:  8\n"
     ]
    }
   ],
   "source": [
    "m=input(\"please choose the person:  \")\n",
    "n=input(\"please choose the picture, n> 5:  \")\n",
    "\n"
   ]
  },
  {
   "cell_type": "code",
   "execution_count": 33,
   "id": "e55c1a3f",
   "metadata": {},
   "outputs": [
    {
     "name": "stdout",
     "output_type": "stream",
     "text": [
      "You choosed this picture:\n"
     ]
    },
    {
     "data": {
      "image/png": "[encoded data removed]",
      "text/plain": [
       "<PIL.PpmImagePlugin.PpmImageFile image mode=L size=92x112 at 0xCD922EBDA0>"
      ]
     },
     "execution_count": 33,
     "metadata": {},
     "output_type": "execute_result"
    }
   ],
   "source": [
    "my_str= \"orlfaces/s{}/{}.pgm\".format(m,n)\n",
    "my_pic5=Image.open(my_str)\n",
    "print(\"You choosed this picture:\")\n",
    "my_pic5"
   ]
  },
  {
   "cell_type": "code",
   "execution_count": 34,
   "id": "7c30e001",
   "metadata": {},
   "outputs": [],
   "source": [
    "selected_image= cv.imread(my_str, cv.IMREAD_GRAYSCALE)\n",
    "selected_image_normalize = cv.normalize(selected_image.astype('float'), None, 0.0, 1.0, cv.NORM_MINMAX)\n",
    "selected_image_normalize=np.reshape(selected_image_normalize,(10304,))\n",
    "selected_image_normalize.shape\n",
    "selected_image_normalize=selected_image_normalize-selected_image_normalize.mean()"
   ]
  },
  {
   "cell_type": "code",
   "execution_count": 35,
   "id": "1d5d7c15",
   "metadata": {},
   "outputs": [],
   "source": [
    "TRAIN=np.zeros((10304,200))\n",
    "for i in range(1,41,1):\n",
    "    for j in range(1,6,1):\n",
    "        my_str= \"orlfaces/s{}/{}.pgm\".format(i,j)\n",
    "        img= cv.imread(my_str, cv.IMREAD_GRAYSCALE)\n",
    "        out = cv.normalize(img.astype('float'), None, 0.0, 1.0, cv.NORM_MINMAX)\n",
    "        x=np.array(out)\n",
    "        y=np.reshape(x,(10304,))\n",
    "        TRAIN[:,(i-1)*5+(j-1)]=y\n",
    "        "
   ]
  },
  {
   "cell_type": "code",
   "execution_count": 36,
   "id": "ff71d7fe",
   "metadata": {},
   "outputs": [],
   "source": [
    "TRAIN_mean=np.reshape(TRAIN.mean(0),(200,1))\n",
    "ones_vector=np.ones((10304,1))\n",
    "TRAIN_mean_zero=TRAIN-np.matmul(ones_vector,TRAIN_mean.T)\n"
   ]
  },
  {
   "cell_type": "code",
   "execution_count": 37,
   "id": "7a433eff",
   "metadata": {},
   "outputs": [],
   "source": [
    "from scipy.linalg import svd\n",
    "U, s, VT = svd(TRAIN_mean_zero)"
   ]
  },
  {
   "cell_type": "code",
   "execution_count": 38,
   "id": "25d9ba41",
   "metadata": {},
   "outputs": [
    {
     "data": {
      "text/plain": [
       "[<matplotlib.lines.Line2D at 0xcd90623c50>]"
      ]
     },
     "execution_count": 38,
     "metadata": {},
     "output_type": "execute_result"
    },
    {
     "data": {
      "image/png": "[encoded data removed]",
      "text/plain": [
       "<Figure size 432x288 with 1 Axes>"
      ]
     },
     "metadata": {
      "needs_background": "light"
     },
     "output_type": "display_data"
    }
   ],
   "source": [
    "plt.plot(s)\n"
   ]
  },
  {
   "cell_type": "code",
   "execution_count": 39,
   "id": "aaa86ecc",
   "metadata": {},
   "outputs": [
    {
     "data": {
      "text/plain": [
       "array([[-0.00778028, -0.01386216, -0.01965973, ...,  0.00123534,\n",
       "        -0.00481436,  0.0081598 ],\n",
       "       [-0.00776484, -0.01399294, -0.0197182 , ...,  0.00043634,\n",
       "        -0.00497061,  0.00609916],\n",
       "       [-0.00761462, -0.01397195, -0.01974414, ...,  0.00097291,\n",
       "        -0.00403964,  0.00638621],\n",
       "       ...,\n",
       "       [-0.01483354, -0.00203668,  0.00207724, ..., -0.01085729,\n",
       "         0.01364029,  0.00735296],\n",
       "       [-0.01461804, -0.00276609,  0.0028499 , ..., -0.0084605 ,\n",
       "         0.01563714,  0.0087119 ],\n",
       "       [-0.01485321, -0.00400252,  0.00143008, ..., -0.00517356,\n",
       "         0.01564285,  0.00763888]])"
      ]
     },
     "execution_count": 39,
     "metadata": {},
     "output_type": "execute_result"
    }
   ],
   "source": [
    "U[:,0:20]\n",
    "\n"
   ]
  },
  {
   "cell_type": "code",
   "execution_count": 40,
   "id": "22b46124",
   "metadata": {},
   "outputs": [],
   "source": [
    "TEST=np.zeros((10304,200))\n",
    "for i in range(1,41,1):\n",
    "    for j in range(6,11,1):\n",
    "        my_str= \"orlfaces/s{}/{}.pgm\".format(i,j)\n",
    "        img= cv.imread(my_str, cv.IMREAD_GRAYSCALE)\n",
    "        out = cv.normalize(img.astype('float'), None, 0.0, 1.0, cv.NORM_MINMAX)\n",
    "        x=np.array(out)\n",
    "        y=np.reshape(x,(10304,))\n",
    "        TEST[:,(i-1)*5+(j-6)]=y\n",
    "        "
   ]
  },
  {
   "cell_type": "code",
   "execution_count": 41,
   "id": "895a7efe",
   "metadata": {},
   "outputs": [
    {
     "data": {
      "text/plain": [
       "(200, 20)"
      ]
     },
     "execution_count": 41,
     "metadata": {},
     "output_type": "execute_result"
    }
   ],
   "source": [
    "\n",
    "TEST_mean=np.reshape(TEST.mean(0),(200,1))\n",
    "TEST_mean_zero=TRAIN-np.matmul(ones_vector,TEST_mean.T)\n",
    "projected_TEST= np.matmul(TEST_mean_zero.T,U[:,0:20])\n",
    "projected_TEST.shape"
   ]
  },
  {
   "cell_type": "code",
   "execution_count": 42,
   "id": "6186fe1c",
   "metadata": {},
   "outputs": [
    {
     "data": {
      "text/plain": [
       "(10304,)"
      ]
     },
     "execution_count": 42,
     "metadata": {},
     "output_type": "execute_result"
    }
   ],
   "source": [
    "projected_selected_image=np.matmul(selected_image_normalize,U[:,0:20])\n",
    "selected_image_normalize.shape"
   ]
  },
  {
   "cell_type": "code",
   "execution_count": 43,
   "id": "2924576c",
   "metadata": {},
   "outputs": [],
   "source": [
    "\n",
    "def minIndex(A):\n",
    "    mi = 0\n",
    "    for i in range(len(A)):\n",
    "        if A[i] < A[mi]:\n",
    "            mi = i\n",
    "    return mi"
   ]
  },
  {
   "cell_type": "code",
   "execution_count": 44,
   "id": "b8bdaa92",
   "metadata": {},
   "outputs": [],
   "source": [
    "L=np.zeros((200,1))\n",
    "for i in range(200):\n",
    "    dist_vector=projected_selected_image-projected_TEST[i,:]\n",
    "    L[i]=math.sqrt(np.matmul(dist_vector.T,dist_vector))\n"
   ]
  },
  {
   "cell_type": "code",
   "execution_count": 45,
   "id": "e7f60d2c",
   "metadata": {},
   "outputs": [
    {
     "name": "stdout",
     "output_type": "stream",
     "text": [
      "this picture is recognized:\n"
     ]
    },
    {
     "data": {
      "text/plain": [
       "<matplotlib.image.AxesImage at 0xcd906799e8>"
      ]
     },
     "execution_count": 45,
     "metadata": {},
     "output_type": "execute_result"
    },
    {
     "data": {
      "image/png": "[encoded data removed]",
      "text/plain": [
       "<Figure size 432x288 with 1 Axes>"
      ]
     },
     "metadata": {
      "needs_background": "light"
     },
     "output_type": "display_data"
    }
   ],
   "source": [
    "zzz=TRAIN[:, minIndex(L)]\n",
    "zzzz=np.reshape(zzz,(112, 92))\n",
    "zzzz\n",
    "zx=zzzz*255\n",
    "print(\"this picture is recognized:\")\n",
    "plt.imshow(zx, cmap='gray', vmin=0, vmax=255)"
   ]
  }
 ],
 "metadata": {
  "kernelspec": {
   "display_name": "Python 3",
   "language": "python",
   "name": "python3"
  },
  "language_info": {
   "codemirror_mode": {
    "name": "ipython",
    "version": 3
   },
   "file_extension": ".py",
   "mimetype": "text/x-python",
   "name": "python",
   "nbconvert_exporter": "python",
   "pygments_lexer": "ipython3",
   "version": "3.5.1"
  }
 },
 "nbformat": 4,
 "nbformat_minor": 5
}
