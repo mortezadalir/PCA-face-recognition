{
 "cells": [
  {
   "cell_type": "code",
   "execution_count": 3,
   "id": "a773dd4b",
   "metadata": {},
   "outputs": [],
   "source": [
    "from PIL import Image\n",
    "import cv2 as cv\n",
    "import numpy as np\n",
    "import matplotlib.pyplot as plt\n",
    "import math"
   ]
  },
  {
   "cell_type": "code",
   "execution_count": null,
   "id": "46552bf9",
   "metadata": {},
   "outputs": [],
   "source": []
  },
  {
   "cell_type": "code",
   "execution_count": 4,
   "id": "4505888f",
   "metadata": {},
   "outputs": [
    {
     "name": "stdout",
     "output_type": "stream",
     "text": [
      "please choose the person:  1\n",
      "please choose the picture, n> 5:  8\n"
     ]
    }
   ],
   "source": [
    "m=input(\"please choose the person:  \")\n",
    "n=input(\"please choose the picture, n> 5:  \")\n",
    "\n"
   ]
  },
  {
   "cell_type": "code",
   "execution_count": 5,
   "id": "5d30124a",
   "metadata": {},
   "outputs": [
    {
     "name": "stdout",
     "output_type": "stream",
     "text": [
      "You choosed this person:\n"
     ]
    },
    {
     "data": {
      "image/png": "[encoded data removed]",
      "text/plain": [
       "<PIL.PpmImagePlugin.PpmImageFile image mode=L size=92x112 at 0x3C62550C18>"
      ]
     },
     "execution_count": 5,
     "metadata": {},
     "output_type": "execute_result"
    }
   ],
   "source": [
    "my_str= \"orlfaces/s{}/{}.pgm\".format(m,n)\n",
    "my_pic5=Image.open(my_str)\n",
    "print(\"You choosed this person:\")\n",
    "my_pic5"
   ]
  },
  {
   "cell_type": "code",
   "execution_count": 6,
   "id": "92ab1775",
   "metadata": {},
   "outputs": [],
   "source": [
    "selected_image= cv.imread(my_str, cv.IMREAD_GRAYSCALE)\n",
    "selected_image_normalize = cv.normalize(selected_image.astype('float'), None, 0.0, 1.0, cv.NORM_MINMAX)\n",
    "selected_image_normalize=np.reshape(selected_image_normalize,(10304,))\n",
    "selected_image_normalize.shape\n",
    "selected_image_normalize=selected_image_normalize-selected_image_normalize.mean()"
   ]
  },
  {
   "cell_type": "code",
   "execution_count": 7,
   "id": "e8292330",
   "metadata": {},
   "outputs": [],
   "source": [
    "TRAIN=np.zeros((10304,200))\n",
    "for i in range(1,41,1):\n",
    "    for j in range(1,6,1):\n",
    "        my_str= \"orlfaces/s{}/{}.pgm\".format(i,j)\n",
    "        img= cv.imread(my_str, cv.IMREAD_GRAYSCALE)\n",
    "        out = cv.normalize(img.astype('float'), None, 0.0, 1.0, cv.NORM_MINMAX)\n",
    "        x=np.array(out)\n",
    "        y=np.reshape(x,(10304,))\n",
    "        TRAIN[:,(i-1)*5+(j-1)]=y\n",
    "        "
   ]
  },
  {
   "cell_type": "code",
   "execution_count": 8,
   "id": "15b3decb",
   "metadata": {},
   "outputs": [],
   "source": [
    "TRAIN_mean=np.reshape(TRAIN.mean(0),(200,1))\n",
    "ones_vector=np.ones((10304,1))\n",
    "TRAIN_mean_zero=TRAIN-np.matmul(ones_vector,TRAIN_mean.T)\n"
   ]
  },
  {
   "cell_type": "code",
   "execution_count": 9,
   "id": "eed40313",
   "metadata": {},
   "outputs": [],
   "source": [
    "from scipy.linalg import svd\n",
    "U, s, VT = svd(TRAIN_mean_zero)"
   ]
  },
  {
   "cell_type": "code",
   "execution_count": 10,
   "id": "b2f87a65",
   "metadata": {},
   "outputs": [
    {
     "data": {
      "text/plain": [
       "[<matplotlib.lines.Line2D at 0x3c641ea438>]"
      ]
     },
     "execution_count": 10,
     "metadata": {},
     "output_type": "execute_result"
    },
    {
     "data": {
      "image/png": "[encoded data removed]",
      "text/plain": [
       "<Figure size 432x288 with 1 Axes>"
      ]
     },
     "metadata": {
      "needs_background": "light"
     },
     "output_type": "display_data"
    }
   ],
   "source": [
    "plt.plot(s)\n"
   ]
  },
  {
   "cell_type": "code",
   "execution_count": 11,
   "id": "80329b88",
   "metadata": {},
   "outputs": [],
   "source": [
    "TEST=np.zeros((10304,200))\n",
    "for i in range(1,41,1):\n",
    "    for j in range(6,11,1):\n",
    "        my_str= \"orlfaces/s{}/{}.pgm\".format(i,j)\n",
    "        img= cv.imread(my_str, cv.IMREAD_GRAYSCALE)\n",
    "        out = cv.normalize(img.astype('float'), None, 0.0, 1.0, cv.NORM_MINMAX)\n",
    "        x=np.array(out)\n",
    "        y=np.reshape(x,(10304,))\n",
    "        TEST[:,(i-1)*5+(j-6)]=y\n",
    "        "
   ]
  },
  {
   "cell_type": "code",
   "execution_count": 12,
   "id": "b98f2999",
   "metadata": {},
   "outputs": [
    {
     "data": {
      "text/plain": [
       "(200, 20)"
      ]
     },
     "execution_count": 12,
     "metadata": {},
     "output_type": "execute_result"
    }
   ],
   "source": [
    "\n",
    "TEST_mean=np.reshape(TEST.mean(0),(200,1))\n",
    "TEST_mean_zero=TRAIN-np.matmul(ones_vector,TEST_mean.T)\n",
    "projected_TEST= np.matmul(TEST_mean_zero.T,U[:,0:20])\n",
    "projected_TEST.shape"
   ]
  },
  {
   "cell_type": "code",
   "execution_count": 13,
   "id": "c4cb6ef9",
   "metadata": {},
   "outputs": [
    {
     "data": {
      "text/plain": [
       "(10304,)"
      ]
     },
     "execution_count": 13,
     "metadata": {},
     "output_type": "execute_result"
    }
   ],
   "source": [
    "projected_selected_image=np.matmul(selected_image_normalize,U[:,0:20])\n",
    "selected_image_normalize.shape"
   ]
  },
  {
   "cell_type": "code",
   "execution_count": 14,
   "id": "884e89f4",
   "metadata": {},
   "outputs": [],
   "source": [
    "\n",
    "def minIndex(A):\n",
    "    mi = 0\n",
    "    for i in range(len(A)):\n",
    "        if A[i] < A[mi]:\n",
    "            mi = i\n",
    "    return mi"
   ]
  },
  {
   "cell_type": "code",
   "execution_count": 15,
   "id": "384d5a55",
   "metadata": {},
   "outputs": [],
   "source": [
    "L=np.zeros((200,1))\n",
    "for i in range(200):\n",
    "    dist_vector=projected_selected_image-projected_TEST[i,:]\n",
    "    L[i]=math.sqrt(np.matmul(dist_vector.T,dist_vector))\n"
   ]
  },
  {
   "cell_type": "code",
   "execution_count": 16,
   "id": "17fdabd5",
   "metadata": {},
   "outputs": [
    {
     "name": "stdout",
     "output_type": "stream",
     "text": [
      "this picture is recognized:\n"
     ]
    },
    {
     "data": {
      "text/plain": [
       "<matplotlib.image.AxesImage at 0x3c64270320>"
      ]
     },
     "execution_count": 16,
     "metadata": {},
     "output_type": "execute_result"
    },
    {
     "data": {
      "image/png": "[encoded data removed]",
      "text/plain": [
       "<Figure size 432x288 with 1 Axes>"
      ]
     },
     "metadata": {
      "needs_background": "light"
     },
     "output_type": "display_data"
    }
   ],
   "source": [
    "zzz=TRAIN[:, minIndex(L)]\n",
    "zzzz=np.reshape(zzz,(112, 92))\n",
    "zzzz\n",
    "zx=zzzz*255\n",
    "print(\"this picture is recognized:\")\n",
    "plt.imshow(zx, cmap='gray', vmin=0, vmax=255)"
   ]
  }
 ],
 "metadata": {
  "kernelspec": {
   "display_name": "Python 3",
   "language": "python",
   "name": "python3"
  },
  "language_info": {
   "codemirror_mode": {
    "name": "ipython",
    "version": 3
   },
   "file_extension": ".py",
   "mimetype": "text/x-python",
   "name": "python",
   "nbconvert_exporter": "python",
   "pygments_lexer": "ipython3",
   "version": "3.5.1"
  }
 },
 "nbformat": 4,
 "nbformat_minor": 5
}
