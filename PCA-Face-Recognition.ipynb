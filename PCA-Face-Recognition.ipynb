{
 "cells": [
  {
   "cell_type": "code",
   "execution_count": 20,
   "id": "c00155c0",
   "metadata": {},
   "outputs": [],
   "source": [
    "from PIL import Image\n",
    "import cv2 as cv\n",
    "import numpy as np\n",
    "import matplotlib.pyplot as plt\n",
    "import math"
   ]
  },
  {
   "cell_type": "code",
   "execution_count": 21,
   "id": "61663514",
   "metadata": {},
   "outputs": [],
   "source": [
    "def minIndex(A):\n",
    "    mi = 0\n",
    "    for i in range(len(A)):\n",
    "        if A[i] < A[mi]:\n",
    "            mi = i\n",
    "    return mi"
   ]
  },
  {
   "cell_type": "code",
   "execution_count": 22,
   "id": "75c9883d",
   "metadata": {},
   "outputs": [],
   "source": [
    "#m=input(\"please choose the person:  \")\n",
    "#n=input(\"please choose the picture, n> 5:  \")\n",
    "\n"
   ]
  },
  {
   "cell_type": "code",
   "execution_count": 23,
   "id": "5ff4d393",
   "metadata": {},
   "outputs": [],
   "source": [
    "xx=np.zeros((10304,200))\n",
    "for i in range(1,41,1):\n",
    "    for j in range(1,6,1):\n",
    "        my_str= \"orlfaces/s{}/{}.pgm\".format(i,j)\n",
    "        img= cv.imread(my_str, cv.IMREAD_GRAYSCALE)\n",
    "        out = cv.normalize(img.astype('float'), None, 0.0, 1.0, cv.NORM_MINMAX)\n",
    "        x=np.array(out)\n",
    "        y=np.reshape(x,(10304,))\n",
    "        xx[:,(i-1)*5+(j-1)]=y\n",
    "        "
   ]
  },
  {
   "cell_type": "code",
   "execution_count": 24,
   "id": "89f3e4ea",
   "metadata": {},
   "outputs": [],
   "source": [
    "y=np.reshape(xx.mean(0),(200,1))\n",
    "z=np.ones((10304,1))\n",
    "xxx=np.matmul(z,y.T)\n",
    "TRAIN_mean_zero=xx-xxx\n"
   ]
  },
  {
   "cell_type": "code",
   "execution_count": 26,
   "id": "17b396c6",
   "metadata": {},
   "outputs": [],
   "source": [
    "from scipy.linalg import svd\n",
    "U, s, VT = svd(TRAIN_mean_zero)"
   ]
  },
  {
   "cell_type": "code",
   "execution_count": 28,
   "id": "7e9a9808",
   "metadata": {},
   "outputs": [
    {
     "data": {
      "text/plain": [
       "[<matplotlib.lines.Line2D at 0x574a5d5160>]"
      ]
     },
     "execution_count": 28,
     "metadata": {},
     "output_type": "execute_result"
    },
    {
     "data": {
      "image/png": "[encoded data removed]",
      "text/plain": [
       "<Figure size 432x288 with 1 Axes>"
      ]
     },
     "metadata": {
      "needs_background": "light"
     },
     "output_type": "display_data"
    }
   ],
   "source": [
    "plt.plot(s)\n"
   ]
  },
  {
   "cell_type": "code",
   "execution_count": 31,
   "id": "1d13f213",
   "metadata": {},
   "outputs": [
    {
     "data": {
      "text/plain": [
       "(10304, 20)"
      ]
     },
     "execution_count": 31,
     "metadata": {},
     "output_type": "execute_result"
    }
   ],
   "source": [
    "U[:,0:20]\n",
    "\n"
   ]
  }
 ],
 "metadata": {
  "kernelspec": {
   "display_name": "Python 3",
   "language": "python",
   "name": "python3"
  },
  "language_info": {
   "codemirror_mode": {
    "name": "ipython",
    "version": 3
   },
   "file_extension": ".py",
   "mimetype": "text/x-python",
   "name": "python",
   "nbconvert_exporter": "python",
   "pygments_lexer": "ipython3",
   "version": "3.5.1"
  }
 },
 "nbformat": 4,
 "nbformat_minor": 5
}
