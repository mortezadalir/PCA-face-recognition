{
 "cells": [
  {
   "cell_type": "code",
   "execution_count": 20,
   "id": "47b63498",
   "metadata": {},
   "outputs": [],
   "source": [
    "from PIL import Image\n",
    "import cv2 as cv\n",
    "import numpy as np\n",
    "import matplotlib.pyplot as plt\n",
    "import math"
   ]
  },
  {
   "cell_type": "code",
   "execution_count": 21,
   "id": "398ff2aa",
   "metadata": {},
   "outputs": [],
   "source": [
    "def minIndex(A):\n",
    "    mi = 0\n",
    "    for i in range(len(A)):\n",
    "        if A[i] < A[mi]:\n",
    "            mi = i\n",
    "    return mi"
   ]
  },
  {
   "cell_type": "code",
   "execution_count": 22,
   "id": "363deb04",
   "metadata": {},
   "outputs": [],
   "source": [
    "#m=input(\"please choose the person:  \")\n",
    "#n=input(\"please choose the picture, n> 5:  \")\n",
    "\n"
   ]
  },
  {
   "cell_type": "code",
   "execution_count": 23,
   "id": "3db9286b",
   "metadata": {},
   "outputs": [],
   "source": [
    "xx=np.zeros((10304,200))\n",
    "for i in range(1,41,1):\n",
    "    for j in range(1,6,1):\n",
    "        my_str= \"orlfaces/s{}/{}.pgm\".format(i,j)\n",
    "        img= cv.imread(my_str, cv.IMREAD_GRAYSCALE)\n",
    "        out = cv.normalize(img.astype('float'), None, 0.0, 1.0, cv.NORM_MINMAX)\n",
    "        x=np.array(out)\n",
    "        y=np.reshape(x,(10304,))\n",
    "        xx[:,(i-1)*5+(j-1)]=y\n",
    "        "
   ]
  },
  {
   "cell_type": "code",
   "execution_count": 24,
   "id": "a3b95a7f",
   "metadata": {},
   "outputs": [],
   "source": [
    "y=np.reshape(xx.mean(0),(200,1))\n",
    "z=np.ones((10304,1))\n",
    "xxx=np.matmul(z,y.T)\n",
    "TRAIN_mean_zero=xx-xxx\n"
   ]
  },
  {
   "cell_type": "code",
   "execution_count": 26,
   "id": "57222900",
   "metadata": {},
   "outputs": [],
   "source": [
    "from scipy.linalg import svd\n",
    "U, s, VT = svd(TRAIN_mean_zero)"
   ]
  },
  {
   "cell_type": "code",
   "execution_count": null,
   "id": "d094bca6",
   "metadata": {},
   "outputs": [],
   "source": []
  }
 ],
 "metadata": {
  "kernelspec": {
   "display_name": "Python 3",
   "language": "python",
   "name": "python3"
  },
  "language_info": {
   "codemirror_mode": {
    "name": "ipython",
    "version": 3
   },
   "file_extension": ".py",
   "mimetype": "text/x-python",
   "name": "python",
   "nbconvert_exporter": "python",
   "pygments_lexer": "ipython3",
   "version": "3.5.1"
  }
 },
 "nbformat": 4,
 "nbformat_minor": 5
}
