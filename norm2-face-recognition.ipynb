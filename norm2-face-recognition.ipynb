{
 "cells": [
  {
   "cell_type": "markdown",
   "id": "594f9eb8",
   "metadata": {},
   "source": [
    "##  Face recognition based on norm 2\n",
    "\n",
    "#### In this project, I try to design a simple face recognition based on norm 2. the pictures of 40 person's fase was taken in gray type.\n",
    "#### Each person have a 10 defferent pictures and so our databas have a 200 pictures."
   ]
  },
  {
   "cell_type": "code",
   "execution_count": 1,
   "id": "9b3e6be7",
   "metadata": {},
   "outputs": [],
   "source": [
    "from PIL import Image\n",
    "import cv2 as cv\n",
    "import numpy as np\n",
    "import matplotlib.pyplot as plt\n",
    "import math\n"
   ]
  },
  {
   "cell_type": "code",
   "execution_count": 2,
   "id": "1563012e",
   "metadata": {},
   "outputs": [],
   "source": [
    "def minIndex(A):\n",
    "    mi = 0\n",
    "    for i in range(len(A)):\n",
    "        if A[i] < A[mi]:\n",
    "            mi = i\n",
    "    return mi"
   ]
  },
  {
   "cell_type": "code",
   "execution_count": 3,
   "id": "a446f79d",
   "metadata": {},
   "outputs": [
    {
     "name": "stdout",
     "output_type": "stream",
     "text": [
      "please choose the person:  1\n",
      "please choose the picture, n> 5:  3\n"
     ]
    }
   ],
   "source": [
    "m=input(\"please choose the person:  \")\n",
    "n=input(\"please choose the picture, n> 5:  \")\n"
   ]
  },
  {
   "cell_type": "code",
   "execution_count": 4,
   "id": "328d356c",
   "metadata": {},
   "outputs": [
    {
     "name": "stdout",
     "output_type": "stream",
     "text": [
      "You choosed this picture:\n"
     ]
    },
    {
     "data": {
      "image/png": "[encoded data removed]",
      "text/plain": [
       "<PIL.PpmImagePlugin.PpmImageFile image mode=L size=92x112 at 0x8235EF89E8>"
      ]
     },
     "execution_count": 4,
     "metadata": {},
     "output_type": "execute_result"
    }
   ],
   "source": [
    "my_str= \"orlfaces/s{}/{}.pgm\".format(m,n)\n",
    "my_pic5=Image.open(my_str)\n",
    "print(\"You choosed this picture:\")\n",
    "my_pic5"
   ]
  },
  {
   "cell_type": "code",
   "execution_count": 5,
   "id": "e15b8d8c",
   "metadata": {},
   "outputs": [],
   "source": [
    "\n",
    "selected_image= cv.imread(my_str, cv.IMREAD_GRAYSCALE)\n",
    "selected_image_normalize = cv.normalize(selected_image.astype('float'), None, 0.0, 1.0, cv.NORM_MINMAX)\n"
   ]
  },
  {
   "cell_type": "code",
   "execution_count": 6,
   "id": "0946f1a9",
   "metadata": {},
   "outputs": [],
   "source": [
    "\n",
    "\n",
    "selected_image_normalize=np.reshape(selected_image_normalize,(10304,))\n",
    "selected_image_normalize.shape\n",
    "selected_image_normalize=selected_image_normalize-selected_image_normalize.mean()"
   ]
  },
  {
   "cell_type": "code",
   "execution_count": 7,
   "id": "cb3ee2de",
   "metadata": {},
   "outputs": [],
   "source": [
    "\n",
    "xx=np.zeros((10304,200))\n",
    "for i in range(1,41,1):\n",
    "    for j in range(1,6,1):\n",
    "        my_str= \"orlfaces/s{}/{}.pgm\".format(i,j)\n",
    "        img= cv.imread(my_str, cv.IMREAD_GRAYSCALE)\n",
    "        out = cv.normalize(img.astype('float'), None, 0.0, 1.0, cv.NORM_MINMAX)\n",
    "        x=np.array(out)\n",
    "        y=np.reshape(x,(10304,))\n",
    "        xx[:,(i-1)*5+(j-1)]=y\n",
    "        \n",
    "        \n",
    "        \n"
   ]
  },
  {
   "cell_type": "code",
   "execution_count": null,
   "id": "4661a70f",
   "metadata": {},
   "outputs": [],
   "source": []
  },
  {
   "cell_type": "code",
   "execution_count": 8,
   "id": "deb7409b",
   "metadata": {},
   "outputs": [],
   "source": [
    "y=np.reshape(xx.mean(0),(200,1))\n",
    "z=np.ones((10304,1))\n",
    "xxx=np.matmul(z,y.T)\n",
    "TRAIN_mean_zero=xx-xxx\n",
    "L=np.zeros((200,1))\n",
    "for i in range(200):\n",
    "    yx=selected_image_normalize-TRAIN_mean_zero[:,i]\n",
    "    L[i]=math.sqrt(np.matmul(yx.T,yx))\n",
    "    \n",
    "    \n"
   ]
  },
  {
   "cell_type": "code",
   "execution_count": 9,
   "id": "c3cf329c",
   "metadata": {},
   "outputs": [
    {
     "name": "stdout",
     "output_type": "stream",
     "text": [
      "this picture is recognized:\n"
     ]
    },
    {
     "data": {
      "text/plain": [
       "<matplotlib.image.AxesImage at 0x823af68ef0>"
      ]
     },
     "execution_count": 9,
     "metadata": {},
     "output_type": "execute_result"
    },
    {
     "data": {
      "image/png": "[encoded data removed]",
      "text/plain": [
       "<Figure size 432x288 with 1 Axes>"
      ]
     },
     "metadata": {
      "needs_background": "light"
     },
     "output_type": "display_data"
    }
   ],
   "source": [
    "zzz=xx[:, minIndex(L)]\n",
    "zzzz=np.reshape(zzz,(112, 92))\n",
    "zzzz\n",
    "zx=zzzz*255\n",
    "print(\"this picture is recognized:\")\n",
    "plt.imshow(zx, cmap='gray', vmin=0, vmax=255)"
   ]
  },
  {
   "cell_type": "code",
   "execution_count": null,
   "id": "b394c652",
   "metadata": {},
   "outputs": [],
   "source": []
  }
 ],
 "metadata": {
  "kernelspec": {
   "display_name": "Python 3",
   "language": "python",
   "name": "python3"
  },
  "language_info": {
   "codemirror_mode": {
    "name": "ipython",
    "version": 3
   },
   "file_extension": ".py",
   "mimetype": "text/x-python",
   "name": "python",
   "nbconvert_exporter": "python",
   "pygments_lexer": "ipython3",
   "version": "3.5.1"
  }
 },
 "nbformat": 4,
 "nbformat_minor": 5
}
